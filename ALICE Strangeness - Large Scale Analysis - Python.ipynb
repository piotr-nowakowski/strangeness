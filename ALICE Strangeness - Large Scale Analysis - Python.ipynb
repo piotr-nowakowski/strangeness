{
 "cells": [
  {
   "cell_type": "code",
   "execution_count": null,
   "metadata": {},
   "outputs": [],
   "source": [
    "from ROOT import gROOT, TFile, TCanvas, TF1, kGreen, kBlue\n",
    "from ipywidgets import interact, interact_manual, interactive, fixed\n",
    "from IPython.display import clear_output, display\n",
    "import ipywidgets as widgets"
   ]
  },
  {
   "cell_type": "code",
   "execution_count": null,
   "metadata": {},
   "outputs": [],
   "source": [
    "file = TFile('data/InvariantMass.root')"
   ]
  },
  {
   "cell_type": "code",
   "execution_count": null,
   "metadata": {},
   "outputs": [],
   "source": [
    "part_type = widgets.Dropdown(options=['K0', 'Lambda', 'AntiLambda'], value='K0', description='Particle type:')\n",
    "display(part_type)\n",
    "\n",
    "collision = widgets.Dropdown(options=['pp', 'pbpb'], value='pbpb', description='Collision type:')\n",
    "display(collision)\n",
    "\n",
    "centrality = widgets.Dropdown(options=['000_010', '010_020', '020_030', '030_040', '040_050', '050_060', '060_070', '070_080', '080_090', '090_100'], value='000_010', description='Centrality:')\n",
    "display(centrality)"
   ]
  },
  {
   "cell_type": "code",
   "execution_count": null,
   "metadata": {},
   "outputs": [],
   "source": [
    "directory = file.Get(part_type.value)\n",
    "histogram_name = f'{collision.value}{\"_\" + centrality.value if collision.value == \"pbpb\" else \"\"}_{part_type.value.lower()}'\n",
    "print(f'Loading Histogram \"{histogram_name}\"')\n",
    "histogram = directory.Get(histogram_name)"
   ]
  },
  {
   "cell_type": "code",
   "execution_count": null,
   "metadata": {
    "scrolled": false
   },
   "outputs": [],
   "source": [
    "c1 = TCanvas('c1', '', 200, 10, 700, 500)\n",
    "histogram.Draw()\n",
    "c1.Draw()"
   ]
  },
  {
   "cell_type": "code",
   "execution_count": null,
   "metadata": {},
   "outputs": [],
   "source": [
    "def fit_histogram(hist, bg, sg):\n",
    "    bg_min, bg_max = bg\n",
    "    sg_min, sg_max = sg\n",
    "    \n",
    "    signal_fit = TF1('fit', 'gausn(0)+pol2(3)', 0, 2)\n",
    "    signal_fit.SetParNames('Y', '#mu', '#sigma', 'A', 'B', 'C')\n",
    "    signal_fit.SetRange(bg_min, bg_max);\n",
    "    signal_fit.SetParameter('Y', 80)\n",
    "    signal_fit.SetParameter('#mu', (sg_min + sg_max) / 2)\n",
    "    signal_fit.SetParameter('#sigma', (sg_max - sg_min) / 4)\n",
    "    signal_fit.SetParLimits(0, 0, 1e9)\n",
    "    signal_fit.SetParLimits(1, sg_min, sg_max)\n",
    "    signal_fit.SetParLimits(2, 0, (sg_max - sg_min) / 2)\n",
    "    signal_fit.SetLineColor(kGreen + 1)\n",
    "    \n",
    "    result = hist.Fit(signal_fit, 'NQSR', '', bg_min, bg_max)\n",
    "    \n",
    "    background_fit = TF1('bg', 'pol2', 0, 10)\n",
    "    background_fit.SetParNames('A', 'B', 'C')\n",
    "    background_fit.SetRange(bg_min, bg_max);\n",
    "    background_fit.SetParameter('A', signal_fit.GetParameter('A'))\n",
    "    background_fit.SetParameter('B', signal_fit.GetParameter('B'))\n",
    "    background_fit.SetParameter('C', signal_fit.GetParameter('C'))\n",
    "    background_fit.SetParError(0, signal_fit.GetParError(3))\n",
    "    background_fit.SetParError(1, signal_fit.GetParError(4))\n",
    "    background_fit.SetParError(2, signal_fit.GetParError(5))\n",
    "    background_fit.SetLineColor(kBlue + 1)\n",
    "    \n",
    "    return signal_fit, background_fit\n",
    "\n",
    "wig1 = fixed(histogram)\n",
    "wig2 = widgets.FloatRangeSlider(value=(0.4,0.6), min=0, max=2, step=0.0001)\n",
    "wig3 = widgets.FloatRangeSlider(value=(0.48,0.51), min=0, max=2, step=0.0001)\n",
    "\n",
    "c2 = TCanvas('c2', '', 200, 10, 700, 500)\n",
    "\n",
    "@interact_manual(hist=wig1, bg=wig2, sg=wig3)\n",
    "def fit_interactive(hist, bg, sg):\n",
    "    sig_fit, bg_fit = fit_histogram(hist, bg, sg)\n",
    "    hist.Draw()\n",
    "    sig_fit.Draw('same')\n",
    "    bg_fit.Draw('same')\n",
    "    c2.Draw()"
   ]
  }
 ],
 "metadata": {
  "kernelspec": {
   "display_name": "Python 3",
   "language": "python",
   "name": "python3"
  },
  "language_info": {
   "codemirror_mode": {
    "name": "ipython",
    "version": 3
   },
   "file_extension": ".py",
   "mimetype": "text/x-python",
   "name": "python",
   "nbconvert_exporter": "python",
   "pygments_lexer": "ipython3",
   "version": "3.8.2"
  }
 },
 "nbformat": 4,
 "nbformat_minor": 4
}
